{
 "cells": [
  {
   "cell_type": "code",
   "execution_count": 2,
   "id": "3c0c4dd9-6e83-4de5-bb6d-fab5c1c5928f",
   "metadata": {},
   "outputs": [],
   "source": [
    "import numpy as np\n",
    "list = [ '1','2','3','4','5' ]\n",
    "array_list = np.array(object = list)"
   ]
  },
  {
   "cell_type": "markdown",
   "id": "0fcb0991-f9f1-4cdf-9e44-4ba191777092",
   "metadata": {},
   "source": [
    "# Quetion : 1"
   ]
  },
  {
   "cell_type": "code",
   "execution_count": 9,
   "id": "65ab4415-c8a3-4a36-a25b-1d11de22775b",
   "metadata": {},
   "outputs": [
    {
     "name": "stdout",
     "output_type": "stream",
     "text": [
      "Data type of list_: <class 'list'>\n",
      "Data type of array_list: <class 'numpy.ndarray'>\n"
     ]
    }
   ],
   "source": [
    "print(\"Data type of list_:\", type(list))\n",
    "print(\"Data type of array_list:\", type(array_list))"
   ]
  },
  {
   "cell_type": "markdown",
   "id": "2a5fe992-b96a-433d-8c68-4015a4cc2e07",
   "metadata": {},
   "source": [
    "list_ is a Python list object which can contain elements of any data type, whereas array_list is a NumPy array object which can contain elements of a single data type."
   ]
  },
  {
   "cell_type": "markdown",
   "id": "295130b1-6000-4533-8b5c-3f3d6d907dd0",
   "metadata": {},
   "source": [
    "# Quetion : 2"
   ]
  },
  {
   "cell_type": "code",
   "execution_count": 10,
   "id": "640f3ddd-7c43-4ab5-9c24-77fa1ee368ec",
   "metadata": {},
   "outputs": [
    {
     "name": "stdout",
     "output_type": "stream",
     "text": [
      "Data type of each element in list_:\n",
      "<class 'str'>\n",
      "<class 'str'>\n",
      "<class 'str'>\n",
      "<class 'str'>\n",
      "<class 'str'>\n"
     ]
    }
   ],
   "source": [
    "print(\"Data type of each element in list_:\")\n",
    "for element in list:\n",
    "    print(type(element))\n"
   ]
  },
  {
   "cell_type": "code",
   "execution_count": 11,
   "id": "25aa782b-1307-41cb-877f-cc4f508d7c6d",
   "metadata": {},
   "outputs": [
    {
     "name": "stdout",
     "output_type": "stream",
     "text": [
      "Data type of each element in array_list:\n",
      "<class 'numpy.str_'>\n",
      "<class 'numpy.str_'>\n",
      "<class 'numpy.str_'>\n",
      "<class 'numpy.str_'>\n",
      "<class 'numpy.str_'>\n"
     ]
    }
   ],
   "source": [
    "print(\"Data type of each element in array_list:\")\n",
    "for element in array_list:\n",
    "    print(type(element))"
   ]
  },
  {
   "cell_type": "markdown",
   "id": "9363d719-1c25-4939-b83e-523768690cf3",
   "metadata": {},
   "source": [
    "# Quetion : 3"
   ]
  },
  {
   "cell_type": "code",
   "execution_count": 12,
   "id": "49ff66a3-28a5-49ba-80c1-f68252587c85",
   "metadata": {},
   "outputs": [],
   "source": [
    "array_list = np.array(object = list, dtype = int)"
   ]
  },
  {
   "cell_type": "code",
   "execution_count": 13,
   "id": "8b5ab819-f965-4138-9e16-fda8620fa175",
   "metadata": {},
   "outputs": [
    {
     "name": "stdout",
     "output_type": "stream",
     "text": [
      "Data type of each element in list after changes:\n",
      "<class 'str'>\n",
      "<class 'str'>\n",
      "<class 'str'>\n",
      "<class 'str'>\n",
      "<class 'str'>\n"
     ]
    }
   ],
   "source": [
    "print(\"Data type of each element in list after changes:\")\n",
    "for element in list:\n",
    "    print(type(element))"
   ]
  },
  {
   "cell_type": "code",
   "execution_count": 14,
   "id": "ec543cd9-2df9-4bb4-a0dc-328fb62f337a",
   "metadata": {},
   "outputs": [
    {
     "name": "stdout",
     "output_type": "stream",
     "text": [
      "Data type of each element in array_list after changes:\n",
      "<class 'numpy.int64'>\n",
      "<class 'numpy.int64'>\n",
      "<class 'numpy.int64'>\n",
      "<class 'numpy.int64'>\n",
      "<class 'numpy.int64'>\n"
     ]
    }
   ],
   "source": [
    "print(\"Data type of each element in array_list after changes:\")\n",
    "for element in array_list:\n",
    "    \n",
    "    print(type(element))"
   ]
  },
  {
   "cell_type": "markdown",
   "id": "c7068ac3-e393-499f-aa39-429d9636f10d",
   "metadata": {},
   "source": [
    "# Quetion : 4"
   ]
  },
  {
   "cell_type": "code",
   "execution_count": 15,
   "id": "6a3ad5ec-684d-40ee-871f-7a07f3f47844",
   "metadata": {},
   "outputs": [],
   "source": [
    "import numpy as np\n",
    "num_list = [ [ 1 , 2 , 3 ] , [ 4 , 5 , 6 ] ]\n",
    "num_array = np.array(object = num_list)"
   ]
  },
  {
   "cell_type": "code",
   "execution_count": 16,
   "id": "3b068916-ba61-4823-a523-8f3b173ab230",
   "metadata": {},
   "outputs": [
    {
     "data": {
      "text/plain": [
       "(2, 3)"
      ]
     },
     "execution_count": 16,
     "metadata": {},
     "output_type": "execute_result"
    }
   ],
   "source": [
    "np.shape(num_array)"
   ]
  },
  {
   "cell_type": "code",
   "execution_count": 17,
   "id": "9e6ffde7-1bea-4b4e-978e-a69fefffa97a",
   "metadata": {},
   "outputs": [
    {
     "data": {
      "text/plain": [
       "6"
      ]
     },
     "execution_count": 17,
     "metadata": {},
     "output_type": "execute_result"
    }
   ],
   "source": [
    "np.size(num_array)"
   ]
  },
  {
   "cell_type": "markdown",
   "id": "e6c71bff-a442-443e-ae80-4a34f241b929",
   "metadata": {},
   "source": [
    "# Quetion : 5"
   ]
  },
  {
   "cell_type": "code",
   "execution_count": 24,
   "id": "a6aa0564-fbca-4a29-b457-77f50b1dbe90",
   "metadata": {},
   "outputs": [],
   "source": [
    "zeromatrix=np.zeros([3,3])"
   ]
  },
  {
   "cell_type": "code",
   "execution_count": 25,
   "id": "438a9ca2-020d-4dc2-836f-3e1e3aa12647",
   "metadata": {},
   "outputs": [
    {
     "data": {
      "text/plain": [
       "array([[0., 0., 0.],\n",
       "       [0., 0., 0.],\n",
       "       [0., 0., 0.]])"
      ]
     },
     "execution_count": 25,
     "metadata": {},
     "output_type": "execute_result"
    }
   ],
   "source": [
    "zeromatrix"
   ]
  },
  {
   "cell_type": "markdown",
   "id": "e17373b3-bc87-401d-b8c6-b02878c0d55c",
   "metadata": {},
   "source": [
    "# Quetion : 6"
   ]
  },
  {
   "cell_type": "code",
   "execution_count": null,
   "id": "ce18af23-f371-4fe6-9b1e-c478dfbb17a4",
   "metadata": {},
   "outputs": [],
   "source": [
    "identitymatrix=np."
   ]
  }
 ],
 "metadata": {
  "kernelspec": {
   "display_name": "Python 3 (ipykernel)",
   "language": "python",
   "name": "python3"
  },
  "language_info": {
   "codemirror_mode": {
    "name": "ipython",
    "version": 3
   },
   "file_extension": ".py",
   "mimetype": "text/x-python",
   "name": "python",
   "nbconvert_exporter": "python",
   "pygments_lexer": "ipython3",
   "version": "3.10.8"
  }
 },
 "nbformat": 4,
 "nbformat_minor": 5
}
